{
 "cells": [
  {
   "cell_type": "code",
   "execution_count": 21,
   "id": "7ed28e07",
   "metadata": {},
   "outputs": [],
   "source": [
    "import numpy as np\n",
    "import pandas as pd\n",
    "import matplotlib.pyplot as plt\n",
    "import seaborn as sns\n",
    "from sklearn.model_selection import train_test_split, KFold\n",
    "from sklearn.metrics import mutual_info_score, accuracy_score, roc_auc_score\n",
    "from sklearn.feature_extraction import DictVectorizer\n",
    "from sklearn.linear_model import LogisticRegression\n",
    "import warnings\n",
    "from flask import Flask\n",
    "%matplotlib inline\n",
    "\n",
    "warnings.filterwarnings('ignore')"
   ]
  },
  {
   "cell_type": "code",
   "execution_count": 2,
   "id": "438105d7",
   "metadata": {
    "scrolled": true
   },
   "outputs": [
    {
     "name": "stdout",
     "output_type": "stream",
     "text": [
      "<class 'pandas.core.frame.DataFrame'>\n",
      "RangeIndex: 7043 entries, 0 to 7042\n",
      "Data columns (total 21 columns):\n",
      " #   Column            Non-Null Count  Dtype  \n",
      "---  ------            --------------  -----  \n",
      " 0   customerID        7043 non-null   object \n",
      " 1   gender            7043 non-null   object \n",
      " 2   SeniorCitizen     7043 non-null   int64  \n",
      " 3   Partner           7043 non-null   object \n",
      " 4   Dependents        7043 non-null   object \n",
      " 5   tenure            7043 non-null   int64  \n",
      " 6   PhoneService      7043 non-null   object \n",
      " 7   MultipleLines     7043 non-null   object \n",
      " 8   InternetService   7043 non-null   object \n",
      " 9   OnlineSecurity    7043 non-null   object \n",
      " 10  OnlineBackup      7043 non-null   object \n",
      " 11  DeviceProtection  7043 non-null   object \n",
      " 12  TechSupport       7043 non-null   object \n",
      " 13  StreamingTV       7043 non-null   object \n",
      " 14  StreamingMovies   7043 non-null   object \n",
      " 15  Contract          7043 non-null   object \n",
      " 16  PaperlessBilling  7043 non-null   object \n",
      " 17  PaymentMethod     7043 non-null   object \n",
      " 18  MonthlyCharges    7043 non-null   float64\n",
      " 19  TotalCharges      7043 non-null   float64\n",
      " 20  Churn             7043 non-null   object \n",
      "dtypes: float64(2), int64(2), object(17)\n",
      "memory usage: 1.1+ MB\n"
     ]
    }
   ],
   "source": [
    "data = pd.read_csv(\"WA_Fn-UseC_-Telco-Customer-Churn.csv\")\n",
    "data.head().T\n",
    "# data.info()\n",
    "data['TotalCharges'] = pd.to_numeric(data.TotalCharges, errors='coerce')\n",
    "# data[total_charges.isnull()][['customerID', 'TotalCharges']]\n",
    "data.TotalCharges = data.TotalCharges.fillna(0)\n",
    "data.info()"
   ]
  },
  {
   "cell_type": "code",
   "execution_count": 3,
   "id": "a5f99592",
   "metadata": {
    "scrolled": true
   },
   "outputs": [
    {
     "name": "stdout",
     "output_type": "stream",
     "text": [
      "0    5174\n",
      "1    1869\n",
      "Name: churn, dtype: int64\n"
     ]
    },
    {
     "data": {
      "text/plain": [
       "0.27"
      ]
     },
     "execution_count": 3,
     "metadata": {},
     "output_type": "execute_result"
    }
   ],
   "source": [
    "data.columns = data.columns.str.lower().str.replace(' ','_')\n",
    "string_columns = list(data.dtypes[data.dtypes == 'object'].index)\n",
    "for col in string_columns:\n",
    "    data[col]= data[col].str.lower().str.replace(' ','_')\n",
    "    \n",
    "data.churn = (data.churn == 'yes').astype('int')\n",
    "print(data.churn.value_counts())\n",
    "data_train_full, data_test, = train_test_split(data, test_size = 0.2, random_state = 1)\n",
    "data_train, data_val = train_test_split(data_train_full, test_size = 0.2, random_state = 11)\n",
    "\n",
    "y_train = data_train.churn.values\n",
    "y_val = data_val.churn.values\n",
    "y_test = data_test.churn.values\n",
    "\n",
    "# del data_train['churn']\n",
    "# del data_val['churn']\n",
    "#del data_test['churn']\n",
    "\n",
    "data_train_full.churn.value_counts()\n",
    "global_mean = data_train_full.churn.mean()\n",
    "round(global_mean, 3)"
   ]
  },
  {
   "cell_type": "code",
   "execution_count": 4,
   "id": "b7ecc005",
   "metadata": {},
   "outputs": [
    {
     "data": {
      "text/plain": [
       "gender              2\n",
       "seniorcitizen       2\n",
       "partner             2\n",
       "dependents          2\n",
       "phoneservice        2\n",
       "multiplelines       3\n",
       "internetservice     3\n",
       "onlinesecurity      3\n",
       "onlinebackup        3\n",
       "deviceprotection    3\n",
       "techsupport         3\n",
       "streamingtv         3\n",
       "streamingmovies     3\n",
       "contract            3\n",
       "paperlessbilling    2\n",
       "paymentmethod       4\n",
       "dtype: int64"
      ]
     },
     "execution_count": 4,
     "metadata": {},
     "output_type": "execute_result"
    }
   ],
   "source": [
    "categorical = ['gender', 'seniorcitizen', 'partner', 'dependents', 'phoneservice', 'multiplelines', \n",
    "              'internetservice', 'onlinesecurity', 'onlinebackup', 'deviceprotection', 'techsupport', \n",
    "               'streamingtv', 'streamingmovies', 'contract', 'paperlessbilling', 'paymentmethod']\n",
    "numerical = ['tenure', 'monthlycharges', 'totalcharges']\n",
    "data_train_full[categorical].nunique()\n",
    "\n",
    "# for col in categorical:\n",
    "#     data_group = data_train_full.groupby(by=col).churn.agg(['mean'])\n",
    "#     data_group['diff'] = data_group['mean'] - global_mean\n",
    "#     data_group['risk'] = data_group['mean'] / global_mean\n",
    "#     display(data_group)\n",
    "   "
   ]
  },
  {
   "cell_type": "code",
   "execution_count": 5,
   "id": "fa8a553f",
   "metadata": {},
   "outputs": [],
   "source": [
    "def calculate_mi(series):\n",
    "    return mutual_info_score(series, data_train_full.churn)\n",
    "def train(df, y, c ):\n",
    "    train_dict = df[categorical + numerical].to_dict(orient = 'rows')\n",
    "    dv = DictVectorizer(sparse = False)\n",
    "    dv.fit(train_dict)\n",
    "    \n",
    "    X = dv.transform(train_dict)\n",
    "    # dv.get_feature_names()\n",
    "    \n",
    "    model = LogisticRegression(solver = 'liblinear', random_state = 1, C = c)\n",
    "    model.fit(X, y)\n",
    "    \n",
    "    return dv, model\n",
    "def predict(df, dv, model):\n",
    "    cat = df[categorical + numerical].to_dict(orient = 'rows')\n",
    "    \n",
    "    X = dv.transform(cat)\n",
    "    y_pred = model.predict_proba(X)[:,1]\n",
    "    \n",
    "    return y_pred\n",
    "def predict_single(customer, dv, model):\n",
    "    X = dv.transform([customer])\n",
    "    y_pred = model.predict_proba(X)[:,1]\n",
    "    return y_pred[0]\n",
    "def tpr_fpr_dataframe(y_val, y_pred):\n",
    "    scores = []\n",
    "    thresholds = np.linspace(0, 1, 101)\n",
    "    \n",
    "    for t in thresholds:\n",
    "        tp = ((y_pred >= t) & (y_val == 1)).sum()\n",
    "        fp = ((y_pred >= t) & (y_val == 0)).sum()\n",
    "        fn = ((y_pred < t) & (y_val == 1)).sum()\n",
    "        tn = ((y_pred < t) & (y_val == 0)).sum()\n",
    "        scores.append((t, tp, fp, fn, tn))\n",
    "        \n",
    "    df_scores = pd.DataFrame(scores)\n",
    "    df_scores.columns = ['threshold', 'tp', 'fp', 'fn', 'tn']\n",
    "    df_scores['tpr'] = df_scores.tp / (df_scores.tp + df_scores.fn)\n",
    "    df_scores['fpr'] = df_scores.fp / (df_scores.fp + df_scores.tn)\n",
    "    return df_scores"
   ]
  },
  {
   "cell_type": "code",
   "execution_count": 6,
   "id": "cd9a68c4",
   "metadata": {
    "scrolled": true
   },
   "outputs": [
    {
     "data": {
      "text/html": [
       "<div>\n",
       "<style scoped>\n",
       "    .dataframe tbody tr th:only-of-type {\n",
       "        vertical-align: middle;\n",
       "    }\n",
       "\n",
       "    .dataframe tbody tr th {\n",
       "        vertical-align: top;\n",
       "    }\n",
       "\n",
       "    .dataframe thead th {\n",
       "        text-align: right;\n",
       "    }\n",
       "</style>\n",
       "<table border=\"1\" class=\"dataframe\">\n",
       "  <thead>\n",
       "    <tr style=\"text-align: right;\">\n",
       "      <th></th>\n",
       "      <th>MI</th>\n",
       "    </tr>\n",
       "  </thead>\n",
       "  <tbody>\n",
       "    <tr>\n",
       "      <th>contract</th>\n",
       "      <td>0.098320</td>\n",
       "    </tr>\n",
       "    <tr>\n",
       "      <th>onlinesecurity</th>\n",
       "      <td>0.063085</td>\n",
       "    </tr>\n",
       "    <tr>\n",
       "      <th>techsupport</th>\n",
       "      <td>0.061032</td>\n",
       "    </tr>\n",
       "    <tr>\n",
       "      <th>internetservice</th>\n",
       "      <td>0.055868</td>\n",
       "    </tr>\n",
       "    <tr>\n",
       "      <th>onlinebackup</th>\n",
       "      <td>0.046923</td>\n",
       "    </tr>\n",
       "    <tr>\n",
       "      <th>deviceprotection</th>\n",
       "      <td>0.043453</td>\n",
       "    </tr>\n",
       "    <tr>\n",
       "      <th>paymentmethod</th>\n",
       "      <td>0.043210</td>\n",
       "    </tr>\n",
       "    <tr>\n",
       "      <th>streamingtv</th>\n",
       "      <td>0.031853</td>\n",
       "    </tr>\n",
       "    <tr>\n",
       "      <th>streamingmovies</th>\n",
       "      <td>0.031581</td>\n",
       "    </tr>\n",
       "    <tr>\n",
       "      <th>paperlessbilling</th>\n",
       "      <td>0.017589</td>\n",
       "    </tr>\n",
       "    <tr>\n",
       "      <th>dependents</th>\n",
       "      <td>0.012346</td>\n",
       "    </tr>\n",
       "    <tr>\n",
       "      <th>partner</th>\n",
       "      <td>0.009968</td>\n",
       "    </tr>\n",
       "    <tr>\n",
       "      <th>seniorcitizen</th>\n",
       "      <td>0.009410</td>\n",
       "    </tr>\n",
       "    <tr>\n",
       "      <th>multiplelines</th>\n",
       "      <td>0.000857</td>\n",
       "    </tr>\n",
       "    <tr>\n",
       "      <th>phoneservice</th>\n",
       "      <td>0.000229</td>\n",
       "    </tr>\n",
       "    <tr>\n",
       "      <th>gender</th>\n",
       "      <td>0.000117</td>\n",
       "    </tr>\n",
       "  </tbody>\n",
       "</table>\n",
       "</div>"
      ],
      "text/plain": [
       "                        MI\n",
       "contract          0.098320\n",
       "onlinesecurity    0.063085\n",
       "techsupport       0.061032\n",
       "internetservice   0.055868\n",
       "onlinebackup      0.046923\n",
       "deviceprotection  0.043453\n",
       "paymentmethod     0.043210\n",
       "streamingtv       0.031853\n",
       "streamingmovies   0.031581\n",
       "paperlessbilling  0.017589\n",
       "dependents        0.012346\n",
       "partner           0.009968\n",
       "seniorcitizen     0.009410\n",
       "multiplelines     0.000857\n",
       "phoneservice      0.000229\n",
       "gender            0.000117"
      ]
     },
     "metadata": {},
     "output_type": "display_data"
    },
    {
     "data": {
      "text/plain": [
       "tenure           -0.351885\n",
       "monthlycharges    0.196805\n",
       "totalcharges     -0.196353\n",
       "dtype: float64"
      ]
     },
     "execution_count": 6,
     "metadata": {},
     "output_type": "execute_result"
    }
   ],
   "source": [
    "data_mi = data_train_full[categorical].apply(calculate_mi)\n",
    "data_mi = data_mi.sort_values(ascending=False).to_frame(name='MI')\n",
    "display(data_mi)\n",
    "\n",
    "data_train_full[numerical].corrwith(data_train_full.churn)"
   ]
  },
  {
   "cell_type": "code",
   "execution_count": 7,
   "id": "50ab9643",
   "metadata": {
    "scrolled": true
   },
   "outputs": [
    {
     "name": "stdout",
     "output_type": "stream",
     "text": [
      "C = 0.001, auc = 0.826 (0.016)\n",
      "C = 0.01, auc = 0.840 (0.012)\n",
      "C = 0.1, auc = 0.842 (0.012)\n",
      "C = 0.5, auc = 0.842 (0.012)\n",
      "C = 1, auc = 0.842 (0.012)\n",
      "C = 10, auc = 0.842 (0.012)\n"
     ]
    }
   ],
   "source": [
    "\"\"\"\n",
    "y_pred = \n",
    "churn = (y_pred >= 0.5).astype(int)\n",
    "print((y_val == churn).mean())\n",
    "model.intercept_[0]\n",
    "model.coef_[0]\n",
    "dict(zip(dv.get_feature_names(), model.coef_[0].round(3)))\"\"\"\n",
    "\n",
    "nfolds = 10\n",
    "kfold =KFold(n_splits=nfolds, shuffle = True, random_state = 1)\n",
    "\n",
    "for c in [0.001, 0.01, 0.1, 0.5, 1, 10]:\n",
    "    aucs = []\n",
    "    \n",
    "    for train_idx, val_idx in kfold.split(data_train_full):\n",
    "        df_train = data_train_full.iloc[train_idx].reset_index(drop = True)\n",
    "        df_val = data_train_full.iloc[val_idx].reset_index(drop = True)\n",
    "        \n",
    "        y_train = df_train.churn.values\n",
    "        y_val = df_val.churn.values\n",
    "        \n",
    "        del df_train['churn']\n",
    "        del df_val['churn']\n",
    "        \n",
    "        dv, model = train(df_train, y_train, c=c)\n",
    "        y_pred = predict(df_val, dv, model)\n",
    "        \n",
    "        auc = roc_auc_score(y_val, y_pred)\n",
    "        aucs.append(auc)\n",
    "    print('C = %s, auc = %0.3f (%0.3f)' % (c, np.mean(aucs), np.std(aucs)))\n"
   ]
  },
  {
   "cell_type": "code",
   "execution_count": 16,
   "id": "bb80c35f",
   "metadata": {},
   "outputs": [
    {
     "name": "stdout",
     "output_type": "stream",
     "text": [
      "0.857801954347991\n"
     ]
    }
   ],
   "source": [
    "y_train = data_train_full.churn.values\n",
    "y_test = data_test.churn.values\n",
    "\n",
    "dv, model = train(data_train_full, y_train, c=0.1)\n",
    "y_pred = predict(data_test, dv, model)\n",
    "\n",
    "auc = roc_auc_score(y_test, y_pred)\n",
    "print(auc)"
   ]
  },
  {
   "cell_type": "code",
   "execution_count": 18,
   "id": "c314671c",
   "metadata": {},
   "outputs": [
    {
     "name": "stdout",
     "output_type": "stream",
     "text": [
      "0.00 0.247\n",
      "0.05 0.485\n",
      "0.10 0.605\n",
      "0.15 0.674\n",
      "0.20 0.709\n",
      "0.25 0.744\n",
      "0.30 0.766\n",
      "0.35 0.779\n",
      "0.40 0.792\n",
      "0.45 0.801\n",
      "0.50 0.812\n",
      "0.55 0.816\n",
      "0.60 0.812\n",
      "0.65 0.805\n",
      "0.70 0.792\n",
      "0.75 0.775\n",
      "0.80 0.759\n",
      "0.85 0.753\n",
      "0.90 0.753\n",
      "0.95 0.753\n",
      "1.00 0.753\n"
     ]
    },
    {
     "data": {
      "text/plain": [
       "array([[0.66713982, 0.08587651],\n",
       "       [0.10220014, 0.14478353]])"
      ]
     },
     "execution_count": 18,
     "metadata": {},
     "output_type": "execute_result"
    }
   ],
   "source": [
    "thresholds = np.linspace(0,1,21)\n",
    "for t in thresholds:\n",
    "    churn = y_pred >= t\n",
    "    acc = accuracy_score(y_test,churn)\n",
    "    print('%0.2f %0.3f' %(t, acc))\n",
    "    \n",
    "t = 0.5\n",
    "predict_churn = (y_pred >= t)\n",
    "predict_no_churn = (y_pred < t)\n",
    "actual_churn = (y_test  == 1 )\n",
    "actual_no_churn = (y_test == 0)\n",
    "\n",
    "true_positive = (predict_churn & actual_churn).sum()\n",
    "false_positive = (predict_churn * actual_no_churn).sum()\n",
    "\n",
    "false_negative = (predict_no_churn & actual_churn).sum()\n",
    "true_negative = (predict_no_churn & actual_no_churn).sum()\n",
    "confusion_table = np.array([[true_negative, false_positive],\n",
    "                           [false_negative,true_positive]])\n",
    "confusion_table / confusion_table.sum()"
   ]
  },
  {
   "cell_type": "markdown",
   "id": "ba4ddd53",
   "metadata": {},
   "source": [
    "### PRECISION AND RECALL"
   ]
  },
  {
   "cell_type": "code",
   "execution_count": 19,
   "id": "470a19e4",
   "metadata": {},
   "outputs": [
    {
     "data": {
      "text/plain": [
       "<matplotlib.legend.Legend at 0x26092b84040>"
      ]
     },
     "execution_count": 19,
     "metadata": {},
     "output_type": "execute_result"
    },
    {
     "data": {
      "image/png": "[encoded data removed]",
      "text/plain": [
       "<Figure size 432x288 with 1 Axes>"
      ]
     },
     "metadata": {
      "needs_background": "light"
     },
     "output_type": "display_data"
    }
   ],
   "source": [
    "p = true_positive / (true_positive + false_positive)\n",
    "p.round(2)\n",
    "r = true_positive / (true_positive + false_negative)\n",
    "r.round(2)\n",
    "\n",
    "np.random.seed(1)\n",
    "y_base = np.random.uniform(0, 1, size = len(y_val))\n",
    "\n",
    "df_rand = tpr_fpr_dataframe(y_val, y_base)\n",
    "\n",
    "plt.plot(df_rand.threshold, df_rand.tpr, label = 'TPR')\n",
    "plt.plot(df_rand.threshold, df_rand.fpr, label = 'FPR')\n",
    "plt.legend()"
   ]
  },
  {
   "cell_type": "code",
   "execution_count": 9,
   "id": "20b2da7a",
   "metadata": {
    "scrolled": true
   },
   "outputs": [
    {
     "data": {
      "text/plain": [
       "0.7364685004436557"
      ]
     },
     "execution_count": 9,
     "metadata": {},
     "output_type": "execute_result"
    }
   ],
   "source": [
    "small_subset = ['contract', 'tenure', 'totalcharges']\n",
    "\n",
    "train_dict_small =  data_train[small_subset].to_dict(orient='rows')\n",
    "dv_small = DictVectorizer(sparse=False)\n",
    "dv_small.fit(train_dict_small)\n",
    "\n",
    "X_small_train = dv_small.transform(train_dict_small)\n",
    "y_train = data_train.churn.values\n",
    "y_val = data_val.churn.values\n",
    "model_small = LogisticRegression(solver = 'liblinear', random_state=1)\n",
    "model_small.fit(X_small_train, y_train)\n",
    "model_small.intercept_[0]\n",
    "dict(zip(dv.get_feature_names(), model_small.coef_[0].round(3)))\n",
    "val_dict_small = data_val[small_subset].to_dict(orient='rows')\n",
    "X_small_val = dv.transform(val_dict_small)\n",
    "y_pred_small = model.predict_proba(X_small_val)[:,1]\n",
    "churn_small = y_pred_small >= 0.5\n",
    "accuracy_score(y_val, churn_small)\n",
    "\n",
    "size_val = len(y_val)\n",
    "baseline = np.repeat(False, size_val)\n",
    "accuracy_score(y_val, baseline)"
   ]
  },
  {
   "cell_type": "code",
   "execution_count": 10,
   "id": "17efc1d5",
   "metadata": {},
   "outputs": [
    {
     "name": "stdout",
     "output_type": "stream",
     "text": [
      "0.062085062231244464\n"
     ]
    }
   ],
   "source": [
    "customer_1 = { \n",
    " 'customerid': '8879-zkjof', \n",
    " 'gender': 'female', \n",
    " 'seniorcitizen': 0, \n",
    " 'partner': 'no', \n",
    " 'dependents': 'no', \n",
    " 'tenure': 41, \n",
    " 'phoneservice': 'yes', \n",
    " 'multiplelines': 'no', \n",
    " 'internetservice': 'dsl', \n",
    " 'onlinesecurity': 'yes', \n",
    " 'onlinebackup': 'no', \n",
    " 'deviceprotection': 'yes', \n",
    " 'techsupport': 'yes', \n",
    " 'streamingtv': 'yes', \n",
    " 'streamingmovies': 'yes',\n",
    " 'contract': 'one_year', \n",
    " 'paperlessbilling': 'yes', \n",
    " 'paymentmethod': 'bank_transfer_(automatic)', \n",
    " 'monthlycharges': 79.85, \n",
    " 'totalcharges': 3320.75, \n",
    "}\n",
    "customer_2 = { \n",
    " 'gender': 'female', \n",
    " 'seniorcitizen': 1, \n",
    " 'partner': 'no', \n",
    " 'dependents': 'no', \n",
    " 'phoneservice': 'yes', \n",
    " 'multiplelines': 'yes', \n",
    " 'internetservice': 'fiber_optic', \n",
    " 'onlinesecurity': 'no', \n",
    " 'onlinebackup': 'no', \n",
    " 'deviceprotection': 'no', \n",
    " 'techsupport': 'no', \n",
    " 'streamingtv': 'yes', \n",
    " 'streamingmovies': 'no', \n",
    " 'contract': 'month-to-month', \n",
    " 'paperlessbilling': 'yes', \n",
    " 'paymentmethod': 'electronic_check', \n",
    " 'tenure': 1, \n",
    " 'monthlycharges': 85.7, \n",
    " 'totalcharges': 85.7 \n",
    "}\n",
    "y_pred = predict_single(customer_1, dv, model)\n",
    "print(y_pred)"
   ]
  },
  {
   "cell_type": "markdown",
   "id": "12882ea2",
   "metadata": {},
   "source": [
    "SAVING THE MODEL"
   ]
  },
  {
   "cell_type": "code",
   "execution_count": 20,
   "id": "f2e27515",
   "metadata": {},
   "outputs": [],
   "source": [
    "import pickle\n",
    "\n",
    "with open('churn-model.bin', 'wb') as f_out:\n",
    "    pickle.dump((dv, model), f_out)"
   ]
  },
  {
   "cell_type": "markdown",
   "id": "c2873659",
   "metadata": {},
   "source": [
    "### Model Serving\n",
    "#### Flask"
   ]
  },
  {
   "cell_type": "code",
   "execution_count": 22,
   "id": "8daaf22f",
   "metadata": {},
   "outputs": [
    {
     "name": "stdout",
     "output_type": "stream",
     "text": [
      " * Serving Flask app \"test\" (lazy loading)\n",
      " * Environment: production\n",
      "\u001b[31m   WARNING: This is a development server. Do not use it in a production deployment.\u001b[0m\n",
      "\u001b[2m   Use a production WSGI server instead.\u001b[0m\n",
      " * Debug mode: on\n"
     ]
    },
    {
     "name": "stderr",
     "output_type": "stream",
     "text": [
      " * Restarting with watchdog (windowsapi)\n"
     ]
    },
    {
     "ename": "SystemExit",
     "evalue": "1",
     "output_type": "error",
     "traceback": [
      "An exception has occurred, use %tb to see the full traceback.\n",
      "\u001b[1;31mSystemExit\u001b[0m\u001b[1;31m:\u001b[0m 1\n"
     ]
    }
   ],
   "source": [
    "app = Flask('test')\n",
    "\n",
    "@app.route('/ping', methods=['GET'])\n",
    "def ping():\n",
    "    return 'PONG'\n",
    "if __name__ == '__main__':\n",
    "    app.run(debug=True, host='0.0.0.0', port=9696)"
   ]
  },
  {
   "cell_type": "code",
   "execution_count": 23,
   "id": "1d4c42d3",
   "metadata": {},
   "outputs": [
    {
     "ename": "SystemExit",
     "evalue": "1",
     "output_type": "error",
     "traceback": [
      "\u001b[1;31m---------------------------------------------------------------------------\u001b[0m",
      "\u001b[1;31mSystemExit\u001b[0m                                Traceback (most recent call last)",
      "\u001b[1;32m~\\AppData\\Local\\Temp/ipykernel_9872/2143773040.py\u001b[0m in \u001b[0;36m<module>\u001b[1;34m\u001b[0m\n\u001b[0;32m      5\u001b[0m     \u001b[1;32mreturn\u001b[0m \u001b[1;34m'PONG'\u001b[0m\u001b[1;33m\u001b[0m\u001b[1;33m\u001b[0m\u001b[0m\n\u001b[0;32m      6\u001b[0m \u001b[1;32mif\u001b[0m \u001b[0m__name__\u001b[0m \u001b[1;33m==\u001b[0m \u001b[1;34m'__main__'\u001b[0m\u001b[1;33m:\u001b[0m\u001b[1;33m\u001b[0m\u001b[1;33m\u001b[0m\u001b[0m\n\u001b[1;32m----> 7\u001b[1;33m     \u001b[0mapp\u001b[0m\u001b[1;33m.\u001b[0m\u001b[0mrun\u001b[0m\u001b[1;33m(\u001b[0m\u001b[0mdebug\u001b[0m\u001b[1;33m=\u001b[0m\u001b[1;32mTrue\u001b[0m\u001b[1;33m,\u001b[0m \u001b[0mhost\u001b[0m\u001b[1;33m=\u001b[0m\u001b[1;34m'0.0.0.0'\u001b[0m\u001b[1;33m,\u001b[0m \u001b[0mport\u001b[0m\u001b[1;33m=\u001b[0m\u001b[1;36m9696\u001b[0m\u001b[1;33m)\u001b[0m\u001b[1;33m\u001b[0m\u001b[1;33m\u001b[0m\u001b[0m\n\u001b[0m",
      "\u001b[1;32m~\\anaconda3\\lib\\site-packages\\flask\\app.py\u001b[0m in \u001b[0;36mrun\u001b[1;34m(self, host, port, debug, load_dotenv, **options)\u001b[0m\n\u001b[0;32m    988\u001b[0m \u001b[1;33m\u001b[0m\u001b[0m\n\u001b[0;32m    989\u001b[0m         \u001b[1;32mtry\u001b[0m\u001b[1;33m:\u001b[0m\u001b[1;33m\u001b[0m\u001b[1;33m\u001b[0m\u001b[0m\n\u001b[1;32m--> 990\u001b[1;33m             \u001b[0mrun_simple\u001b[0m\u001b[1;33m(\u001b[0m\u001b[0mhost\u001b[0m\u001b[1;33m,\u001b[0m \u001b[0mport\u001b[0m\u001b[1;33m,\u001b[0m \u001b[0mself\u001b[0m\u001b[1;33m,\u001b[0m \u001b[1;33m**\u001b[0m\u001b[0moptions\u001b[0m\u001b[1;33m)\u001b[0m\u001b[1;33m\u001b[0m\u001b[1;33m\u001b[0m\u001b[0m\n\u001b[0m\u001b[0;32m    991\u001b[0m         \u001b[1;32mfinally\u001b[0m\u001b[1;33m:\u001b[0m\u001b[1;33m\u001b[0m\u001b[1;33m\u001b[0m\u001b[0m\n\u001b[0;32m    992\u001b[0m             \u001b[1;31m# reset the first request information if the development server\u001b[0m\u001b[1;33m\u001b[0m\u001b[1;33m\u001b[0m\u001b[0m\n",
      "\u001b[1;32m~\\anaconda3\\lib\\site-packages\\werkzeug\\serving.py\u001b[0m in \u001b[0;36mrun_simple\u001b[1;34m(hostname, port, application, use_reloader, use_debugger, use_evalex, extra_files, exclude_patterns, reloader_interval, reloader_type, threaded, processes, request_handler, static_files, passthrough_errors, ssl_context)\u001b[0m\n\u001b[0;32m   1000\u001b[0m         \u001b[1;32mfrom\u001b[0m \u001b[1;33m.\u001b[0m\u001b[0m_reloader\u001b[0m \u001b[1;32mimport\u001b[0m \u001b[0mrun_with_reloader\u001b[0m \u001b[1;32mas\u001b[0m \u001b[0m_rwr\u001b[0m\u001b[1;33m\u001b[0m\u001b[1;33m\u001b[0m\u001b[0m\n\u001b[0;32m   1001\u001b[0m \u001b[1;33m\u001b[0m\u001b[0m\n\u001b[1;32m-> 1002\u001b[1;33m         _rwr(\n\u001b[0m\u001b[0;32m   1003\u001b[0m             \u001b[0minner\u001b[0m\u001b[1;33m,\u001b[0m\u001b[1;33m\u001b[0m\u001b[1;33m\u001b[0m\u001b[0m\n\u001b[0;32m   1004\u001b[0m             \u001b[0mextra_files\u001b[0m\u001b[1;33m=\u001b[0m\u001b[0mextra_files\u001b[0m\u001b[1;33m,\u001b[0m\u001b[1;33m\u001b[0m\u001b[1;33m\u001b[0m\u001b[0m\n",
      "\u001b[1;32m~\\anaconda3\\lib\\site-packages\\werkzeug\\_reloader.py\u001b[0m in \u001b[0;36mrun_with_reloader\u001b[1;34m(main_func, extra_files, exclude_patterns, interval, reloader_type)\u001b[0m\n\u001b[0;32m    426\u001b[0m                 \u001b[0mreloader\u001b[0m\u001b[1;33m.\u001b[0m\u001b[0mrun\u001b[0m\u001b[1;33m(\u001b[0m\u001b[1;33m)\u001b[0m\u001b[1;33m\u001b[0m\u001b[1;33m\u001b[0m\u001b[0m\n\u001b[0;32m    427\u001b[0m         \u001b[1;32melse\u001b[0m\u001b[1;33m:\u001b[0m\u001b[1;33m\u001b[0m\u001b[1;33m\u001b[0m\u001b[0m\n\u001b[1;32m--> 428\u001b[1;33m             \u001b[0msys\u001b[0m\u001b[1;33m.\u001b[0m\u001b[0mexit\u001b[0m\u001b[1;33m(\u001b[0m\u001b[0mreloader\u001b[0m\u001b[1;33m.\u001b[0m\u001b[0mrestart_with_reloader\u001b[0m\u001b[1;33m(\u001b[0m\u001b[1;33m)\u001b[0m\u001b[1;33m)\u001b[0m\u001b[1;33m\u001b[0m\u001b[1;33m\u001b[0m\u001b[0m\n\u001b[0m\u001b[0;32m    429\u001b[0m     \u001b[1;32mexcept\u001b[0m \u001b[0mKeyboardInterrupt\u001b[0m\u001b[1;33m:\u001b[0m\u001b[1;33m\u001b[0m\u001b[1;33m\u001b[0m\u001b[0m\n\u001b[0;32m    430\u001b[0m         \u001b[1;32mpass\u001b[0m\u001b[1;33m\u001b[0m\u001b[1;33m\u001b[0m\u001b[0m\n",
      "\u001b[1;31mSystemExit\u001b[0m: 1"
     ]
    }
   ],
   "source": [
    "%tb"
   ]
  }
 ],
 "metadata": {
  "kernelspec": {
   "display_name": "Python 3 (ipykernel)",
   "language": "python",
   "name": "python3"
  },
  "language_info": {
   "codemirror_mode": {
    "name": "ipython",
    "version": 3
   },
   "file_extension": ".py",
   "mimetype": "text/x-python",
   "name": "python",
   "nbconvert_exporter": "python",
   "pygments_lexer": "ipython3",
   "version": "3.9.7"
  }
 },
 "nbformat": 4,
 "nbformat_minor": 5
}
