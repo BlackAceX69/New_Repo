{
 "cells": [
  {
   "cell_type": "code",
   "execution_count": 1,
   "id": "77760ad4",
   "metadata": {},
   "outputs": [],
   "source": [
    "import pickle \n",
    "import numpy as np"
   ]
  },
  {
   "cell_type": "code",
   "execution_count": 2,
   "id": "6ade718b",
   "metadata": {},
   "outputs": [],
   "source": [
    "def predict_single(customer, dv, model):\n",
    "    X = dv.transform([customer])\n",
    "    y_pred = model.predict_proba(X)[:,1]\n",
    "    return y_pred[0]"
   ]
  },
  {
   "cell_type": "code",
   "execution_count": 3,
   "id": "eda0a917",
   "metadata": {},
   "outputs": [],
   "source": [
    "with open('churn-model.bin', 'rb') as f_in:\n",
    "    dv, model = pickle.load(f_in)\n",
    "    "
   ]
  },
  {
   "cell_type": "code",
   "execution_count": 5,
   "id": "7b2cf2f3",
   "metadata": {},
   "outputs": [
    {
     "name": "stdout",
     "output_type": "stream",
     "text": [
      "verdict: churn\n"
     ]
    }
   ],
   "source": [
    "customer_1 = { \n",
    " 'customerid': '8879-zkjof', \n",
    " 'gender': 'female', \n",
    " 'seniorcitizen': 0, \n",
    " 'partner': 'no', \n",
    " 'dependents': 'no', \n",
    " 'tenure': 41, \n",
    " 'phoneservice': 'yes', \n",
    " 'multiplelines': 'no', \n",
    " 'internetservice': 'dsl', \n",
    " 'onlinesecurity': 'yes', \n",
    " 'onlinebackup': 'no', \n",
    " 'deviceprotection': 'yes', \n",
    " 'techsupport': 'yes', \n",
    " 'streamingtv': 'yes', \n",
    " 'streamingmovies': 'yes',\n",
    " 'contract': 'one_year', \n",
    " 'paperlessbilling': 'yes', \n",
    " 'paymentmethod': 'bank_transfer_(automatic)', \n",
    " 'monthlycharges': 79.85, \n",
    " 'totalcharges': 3320.75, \n",
    "}\n",
    "customer_2 = { \n",
    " 'gender': 'female', \n",
    " 'seniorcitizen': 1, \n",
    " 'partner': 'no', \n",
    " 'dependents': 'no', \n",
    " 'phoneservice': 'yes', \n",
    " 'multiplelines': 'yes', \n",
    " 'internetservice': 'fiber_optic', \n",
    " 'onlinesecurity': 'no', \n",
    " 'onlinebackup': 'no', \n",
    " 'deviceprotection': 'no', \n",
    " 'techsupport': 'no', \n",
    " 'streamingtv': 'yes', \n",
    " 'streamingmovies': 'no', \n",
    " 'contract': 'month-to-month', \n",
    " 'paperlessbilling': 'yes', \n",
    " 'paymentmethod': 'electronic_check', \n",
    " 'tenure': 1, \n",
    " 'monthlycharges': 85.7, \n",
    " 'totalcharges': 85.7 \n",
    "}\n",
    "y_pred = predict_single(customer_2, dv, model)\n",
    "\n",
    "if y_pred >= 0.5:\n",
    "    print('verdict: churn')\n",
    "else:\n",
    "    print('verdict: Not churn')"
   ]
  }
 ],
 "metadata": {
  "kernelspec": {
   "display_name": "Python 3 (ipykernel)",
   "language": "python",
   "name": "python3"
  },
  "language_info": {
   "codemirror_mode": {
    "name": "ipython",
    "version": 3
   },
   "file_extension": ".py",
   "mimetype": "text/x-python",
   "name": "python",
   "nbconvert_exporter": "python",
   "pygments_lexer": "ipython3",
   "version": "3.9.7"
  }
 },
 "nbformat": 4,
 "nbformat_minor": 5
}
